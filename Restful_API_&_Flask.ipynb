{
  "nbformat": 4,
  "nbformat_minor": 0,
  "metadata": {
    "colab": {
      "provenance": []
    },
    "kernelspec": {
      "name": "python3",
      "display_name": "Python 3"
    },
    "language_info": {
      "name": "python"
    }
  },
  "cells": [
    {
      "cell_type": "markdown",
      "source": [
        "# 1. What is a RESTful API ?\n",
        "\n",
        "A RESTful API (Representational State Transfer API) is a way for systems to communicate over the web using standard HTTP methods. It follows REST principles, focusing on stateless, client-server communication, and manipulating resources through URLs."
      ],
      "metadata": {
        "id": "Hc3zim1oyGTf"
      }
    },
    {
      "cell_type": "markdown",
      "source": [
        "# 2. Explain the concept of API specification ?\n",
        "\n",
        "An API Specification is a detailed blueprint that defines how an API should behave and be used. It describes the structure, endpoints, data formats, and expected responses of an API, enabling developers to interact with it consistently and reliably."
      ],
      "metadata": {
        "id": "dk6f-9eYzDeZ"
      }
    },
    {
      "cell_type": "markdown",
      "source": [
        "# 3. What is Flask, and why is it popular for building APIs ?\n",
        "\n",
        "Flask is a lightweight web framework for Python, often used to build web applications and APIs. It’s designed to be simple, flexible, and easy to extend, making it a popular choice for developers.\n"
      ],
      "metadata": {
        "id": "4EMJq2ZOzbYc"
      }
    },
    {
      "cell_type": "markdown",
      "source": [
        "#4. What is routing in Flask ?\n",
        "\n",
        "Routing in Flask is the process of defining how URLs (endpoints) map to specific functions in your application. It determines what code should run when a user accesses a particular route. In a Flask app, routing is handled using the @app.route decorator.\n",
        "\n"
      ],
      "metadata": {
        "id": "m4xyMhgHzoZB"
      }
    },
    {
      "cell_type": "markdown",
      "source": [
        "# 5. How do you create a simple Flask application ?\n",
        "\n",
        "Step 1: Set Up Your Environment\n",
        "\n",
        "Install Python (if not already installed)\n",
        "Ensure you have Python 3.7 or higher installed.\n",
        "\n",
        "Create a Project Folder\n",
        "\n",
        "Create a Virtual Environment (Optional but Recommended)\n",
        "\n",
        "\n",
        "Install Flask\n",
        "\n",
        "\n",
        "Step 2: Create the Flask\n",
        "\n",
        "Create a file named app.py with the following code:\n",
        "\n",
        "\n",
        "Step 3: Run the Application\n",
        "\n",
        "In your terminal, run:\n",
        "\n",
        "Step 4: Test Your App in a Browser or Postman\n",
        "Open your browser and visit:\n",
        "\n",
        "http://127.0.0.1:5000/ → Displays: \"Welcome to My Flask App!\"\n",
        "\n",
        "http://127.0.0.1:5000/about → Displays: \"This is a simple Flask application.\"\n",
        "\n",
        "Step 5: Add Dynamic Routes and JSON Responses\n",
        "\n",
        "Update app.py to handle dynamic routes and JSON responses:\n",
        "\n",
        "Test New Routes:\n",
        "\n",
        "GET /user/Alice → \"Hello, Alice!\"\n",
        "\n",
        "GET /api/data → {\"message\": \"Here is your data\", \"status\": \"success\"}\n",
        "\n",
        "POST /api/user with JSON body:\n",
        "\n"
      ],
      "metadata": {
        "id": "GXdnHDO8zzzc"
      }
    },
    {
      "cell_type": "markdown",
      "source": [
        "# 6. What are HTTP methods used in RESTful APIs ?\n",
        "\n",
        "HTTP Methods are used in RESTful APIs to define the type of operation performed on a resource. Each method corresponds to a CRUD (Create, Read, Update, Delete) operation."
      ],
      "metadata": {
        "id": "usJh71-P1Maz"
      }
    },
    {
      "cell_type": "markdown",
      "source": [
        "# 7. What is the purpose of the @app.route() decorator in Flask ?\n",
        "\n",
        "The @app.route() decorator in Flask is used to define routes in a web application. It tells Flask which URL should trigger a specific function, allowing you to map different URLs (endpoints) to functions that handle the request and generate a response.\n",
        "\n"
      ],
      "metadata": {
        "id": "GuTaoxN017Jf"
      }
    },
    {
      "cell_type": "markdown",
      "source": [
        "# 8. What is the difference between GET and POST HTTP methods ?\n",
        "\n",
        "The GET and POST HTTP methods are two of the most commonly used request methods in RESTful APIs. They serve different purposes and handle data differently:\n",
        "\n",
        "🟢 GET Method:\n",
        "\n",
        "Used for retrieving data from the server.\n",
        "\n",
        "Should not modify server state.\n",
        "\n",
        "Safe to retry without side effects.\n",
        "\n",
        "🟢 POST Method:\n",
        "\n",
        "Used for creating or modifying resources on the server.\n",
        "\n",
        "Sends data in the request body in JSON, form, or other formats.\n",
        "\n",
        "Not idempotent: Multiple requests create multiple resources.\n",
        "\n"
      ],
      "metadata": {
        "id": "ze9Wb2ce3hl-"
      }
    },
    {
      "cell_type": "markdown",
      "source": [
        "# 9. How do you handle errors in Flask APIs ?\n",
        "\n",
        "Handling errors in Flask APIs is crucial for creating reliable and user-friendly applications. Flask provides various mechanisms to handle errors gracefully, ensuring meaningful responses for users and clients.\n",
        "\n"
      ],
      "metadata": {
        "id": "UqicPuA43_-G"
      }
    },
    {
      "cell_type": "markdown",
      "source": [
        "# 10.  How do you connect Flask to a SQL database ?\n",
        "\n",
        "Connecting Flask to a SQL database involves setting up a database connection, configuring the app, and executing queries. Flask provides tools like Flask-SQLAlchemy to make database interactions easier and more Pythonic.\n",
        "\n"
      ],
      "metadata": {
        "id": "Qoi355BK4SFt"
      }
    },
    {
      "cell_type": "markdown",
      "source": [
        "# 11. What is the role of Flask-SQLAlchemy ?\n",
        "\n",
        "Flask-SQLAlchemy is an Object-Relational Mapping (ORM) extension for Flask that simplifies database interactions by allowing developers to work with databases using Python objects instead of writing raw SQL queries. It combines the power of SQLAlchemy, a popular Python SQL toolkit, with the simplicity of Flask."
      ],
      "metadata": {
        "id": "4DlJk1TZ4fyG"
      }
    },
    {
      "cell_type": "markdown",
      "source": [
        "# 12. What are Flask blueprints, and how are they useful ?\n",
        "\n",
        "Flask Blueprints are a feature in Flask that help organize and structure your application by allowing you to group related routes, templates, static files, and other logic into reusable modules. They enable developers to build large, scalable applications by separating concerns and avoiding a single, monolithic file."
      ],
      "metadata": {
        "id": "twVW5atU5n3u"
      }
    },
    {
      "cell_type": "markdown",
      "source": [
        "# 13. What is the purpose of Flask's request object ?\n",
        "\n",
        "The request object in Flask provides access to incoming HTTP request data within your routes. It’s a global object imported from flask that handles data sent to the server, such as form inputs, JSON payloads, query parameters, cookies, and headers.\n",
        "\n"
      ],
      "metadata": {
        "id": "nmUp4M5C5n8c"
      }
    },
    {
      "cell_type": "markdown",
      "source": [
        "# 14.  How do you create a RESTful API endpoint using Flask ?\n",
        "\n",
        "To create a RESTful API endpoint using Flask, you need to define routes that respond to HTTP methods like GET, POST, PUT, DELETE. These routes interact with resources, returning data in JSON format.\n",
        "\n",
        "🟢 Step 1: Install Flask\n",
        "\n",
        "First, ensure Flask is installed in your environment:\n",
        "\n",
        "🟢 Step 2: Set Up Project Structure\n",
        "\n",
        "🟢 Step 3: Create a Basic Flask App with RESTful Endpoints (app.py)\n",
        "\n",
        "✅ Step 4: Test the RESTful API\n",
        "\n",
        "\n",
        "\n",
        "\n",
        "\n"
      ],
      "metadata": {
        "id": "Yw7bY6Vz7Kq1"
      }
    },
    {
      "cell_type": "markdown",
      "source": [
        "# 15. What is the purpose of Flask's jsonify() function ?\n",
        "\n",
        "The jsonify() function in Flask is a utility that converts data to JSON format and sets the appropriate response headers, making it easy to return JSON responses from your API endpoints.\n",
        "\n",
        "✅ Purpose of jsonify() in Flask:\n",
        "\n",
        "1. Convert Data to JSON: Safely serializes data (e.g., dictionaries, lists) to JSON.\n",
        "\n",
        "2. Sets Correct MIME Type: Automatically sets the Content-Type header to application/json.\n",
        "\n",
        "3. Handles Encoding: Ensures proper encoding of special characters.\n",
        "\n",
        "4. Returns a Response Object: Returns a Flask Response object instead of a plain string.\n",
        "\n",
        "5. Prevents Errors: Handles edge cases (e.g., nested data structures) gracefully."
      ],
      "metadata": {
        "id": "TNMwY76877vF"
      }
    },
    {
      "cell_type": "markdown",
      "source": [
        "# 16.  Explain Flask’s url_for() function ?\n",
        "\n",
        "The url_for() function in Flask is a utility used to dynamically generate URLs for routes in your application. It ensures that URLs are correctly constructed, even if routes are changed or use variable parameters.\n",
        "\n",
        "✅ Purpose of Flask’s url_for() Function:\n",
        "\n",
        "1. Dynamic URL Generation: Generates URLs using the function name of a route instead of hardcoding paths.\n",
        "\n",
        "2. Handles URL Changes: Automatically updates URLs if route paths are modified.\n",
        "\n",
        "3. Supports URL Parameters: Passes query strings and route parameters conveniently.\n",
        "\n",
        "4. Prevents Hardcoding Issues: Reduces errors when routes change, making code more maintainable.\n",
        "\n"
      ],
      "metadata": {
        "id": "eHFg22Ik8Wz7"
      }
    },
    {
      "cell_type": "markdown",
      "source": [
        "# 17.  How does Flask handle static files (CSS, JavaScript, etc.)?\n",
        "\n",
        "Flask handles static files (like CSS, JavaScript, images, and fonts) by providing a built-in way to serve them from a dedicated directory called static. This setup ensures easy and organized access to assets needed for web applications.\n",
        "\n",
        "\n",
        "✅ How Flask Handles Static Files\n",
        "\n",
        "1. Default Static Folder\n",
        "\n",
        "Flask automatically looks for a folder named static in your project directory.\n",
        "\n",
        "2. Accessing Static Files\n",
        "\n",
        "You can access static files using the /static/<filename> route or using url_for() in templates.\n",
        "\n",
        "3. Best Practice\n",
        "\n",
        "Use url_for('static', filename='path/to/file') to ensure correct file paths, even if routes change.\n"
      ],
      "metadata": {
        "id": "WkKFmWjr849L"
      }
    },
    {
      "cell_type": "markdown",
      "source": [
        "# 18 . What is an API specification, and how does it help in building a Flask API ?\n",
        "\n",
        "An API specification is a detailed, structured document that defines how a web API behaves and can be used. It outlines endpoints, request/response formats, authentication methods, error handling, and more. In the context of building a Flask API, an API specification acts as a blueprint that helps developers understand and interact with the API consistently.\n",
        "\n",
        "✅ What is an API Specification?\n",
        "\n",
        "1. An API specification provides a standardized way to describe an API’s:\n",
        "\n",
        "2. Endpoints (Routes): The available paths (e.g., /users, /products)\n",
        "\n",
        "3. HTTP Methods: Supported methods (e.g., GET, POST, PUT, DELETE)\n",
        "\n",
        "4. Request Parameters: Query parameters, path parameters, headers, and body data\n",
        "\n",
        "5. Responses: Expected response formats, status codes, and example responses\n",
        "\n",
        "6. Error Handling: Standardized error responses and codes\n",
        "\n",
        "7. Authentication: How users authenticate (e.g., JWT, OAuth)\n",
        "\n",
        "8. Data Models: Structure of request and response payloads\n",
        "\n",
        "9. Usage Examples: Sample requests and responses for clarity"
      ],
      "metadata": {
        "id": "ij0bm31j-VNi"
      }
    },
    {
      "cell_type": "markdown",
      "source": [
        "# 19. What are HTTP status codes, and why are they important in a Flask API ?\n",
        "\n",
        "HTTP status codes are standardized three-digit numbers that indicate the result of a client’s request to a server. They are part of the HTTP protocol and help communicate the outcome of a request, whether it was successful, encountered an error, or requires further action.\n",
        "\n",
        "In a Flask API, proper use of HTTP status codes is crucial for effective communication between the client and server, enabling clients to handle responses appropriately.\n",
        "\n",
        "\n",
        "\n"
      ],
      "metadata": {
        "id": "yUDVg30z-_gx"
      }
    },
    {
      "cell_type": "markdown",
      "source": [
        "# 20. How do you handle POST requests in Flask ?\n",
        "\n",
        "Handling POST requests in Flask involves receiving data from the client, processing it, and sending back a response. POST requests are typically used to create new resources on the server, such as creating a new user, saving form data, or uploading files.\n",
        "\n",
        "\n",
        "\n",
        "✅ How to Handle POST Requests in Flask\n",
        "\n",
        "1. Setting Up a POST Route\n",
        "\n",
        "2. Use the @app.route decorator with the methods argument set to [\"POST\"].\n",
        "\n",
        "3. Accessing POST Data\n",
        "\n",
        "4. Use request.form for form-encoded data (e.g., from HTML forms).\n",
        "\n",
        "5. Use request.get_json() for JSON data.\n",
        "\n",
        "6. Use request.files for file uploads.\n",
        "\n",
        "\n",
        "\n",
        "\n"
      ],
      "metadata": {
        "id": "tXhvi-Mx_LAD"
      }
    },
    {
      "cell_type": "markdown",
      "source": [
        " # 21. How would you secure a Flask API ?\n",
        "\n",
        " Securing a Flask API is crucial to protect sensitive data, prevent unauthorized access, and safeguard against cyber threats. Flask offers several tools and techniques to enhance the security of your API.\n",
        "\n",
        " 1. Secure Data Transmission (HTTPS)\n",
        "\n",
        "2. Authentication and Authorization\n",
        "\n",
        "3. Input Validation and Sanitization\n",
        "\n",
        "4. Use Secure HTTP Headers\n",
        "\n",
        "5. Rate Limiting\n",
        "\n"
      ],
      "metadata": {
        "id": "Q87GEKubFxPM"
      }
    },
    {
      "cell_type": "markdown",
      "source": [
        "# 22.  What is the significance of the Flask-RESTful extension ?\n",
        "\n",
        "The Flask-RESTful extension is a popular Flask extension that simplifies the creation of RESTful APIs in Python. It provides convenient tools and abstractions to handle routing, request parsing, input validation, and response formatting. It’s built on top of Flask and follows RESTful principles, making it easier to create APIs that are clean, scalable, and maintainable.\n",
        "\n",
        "\n"
      ],
      "metadata": {
        "id": "Flh5ZHWJGSMU"
      }
    },
    {
      "cell_type": "markdown",
      "source": [
        "# 23. What is the role of Flask’s session object ?\n",
        "\n",
        "The Flask session object is a built-in feature used for storing data across requests in a web application. It allows you to store user-specific data between different requests from the same user. Unlike cookies, which are stored on the client side, sessions store data securely on the server side.\n",
        "\n",
        "✅ Purpose of Flask’s session Object:\n",
        "\n",
        "1. User Authentication and Authorization: Store user login status, roles, and permissions.\n",
        "\n",
        "2. User Preferences: Save settings like language or theme.\n",
        "\n",
        "3. Shopping Cart: Track items in a cart until checkout.\n",
        "\n",
        "4. Temporary Data Storage: Store non-sensitive data across requests."
      ],
      "metadata": {
        "id": "5lunyCyAGeMo"
      }
    },
    {
      "cell_type": "code",
      "source": [
        "# 1.  How do you create a basic Flask application ?\n",
        "\n",
        "from flask import Flask\n",
        "\n",
        "app = Flask(__name__)\n",
        "\n",
        "@app.route('/')\n",
        "def hello_world():\n",
        "    return 'Hello, World!'\n",
        "\n",
        "if __name__ == '__main__':\n",
        "    app.run(debug=True)"
      ],
      "metadata": {
        "colab": {
          "base_uri": "https://localhost:8080/"
        },
        "id": "pmh5pi8cG-cD",
        "outputId": "76c25eee-7229-4d31-f21b-e075feedf69a"
      },
      "execution_count": null,
      "outputs": [
        {
          "metadata": {
            "tags": null
          },
          "name": "stdout",
          "output_type": "stream",
          "text": [
            " * Serving Flask app '__main__'\n",
            " * Debug mode: on\n"
          ]
        },
        {
          "metadata": {
            "tags": null
          },
          "name": "stderr",
          "output_type": "stream",
          "text": [
            "INFO:werkzeug:\u001b[31m\u001b[1mWARNING: This is a development server. Do not use it in a production deployment. Use a production WSGI server instead.\u001b[0m\n",
            " * Running on http://127.0.0.1:5000\n",
            "INFO:werkzeug:\u001b[33mPress CTRL+C to quit\u001b[0m\n",
            "INFO:werkzeug: * Restarting with stat\n"
          ]
        }
      ]
    },
    {
      "cell_type": "code",
      "source": [
        "# 2. How do you serve static files like images or CSS in Flask ?\n",
        "\n",
        "# a. Serving Static Files in Flask\n",
        "\n",
        "#app.py\n",
        "\n",
        "from flask import Flask, render_template, url_for\n",
        "\n",
        "app = Flask(__name__)\n",
        "\n",
        "@app.route('/')\n",
        "def index():\n",
        "    # Using url_for to get the path to the static file\n",
        "    logo_url = url_for('static', filename='images/logo.png')\n",
        "    return f\"<img src='{logo_url}' alt='Logo'>\"\n",
        "\n",
        "if __name__ == \"__main__\":\n",
        "    app.run(debug=True)\n",
        "\n",
        "\n",
        "# b. Using Static Files in HTML Templates\n",
        "\n",
        "from flask import Flask, render_template\n",
        "\n",
        "app = Flask(__name__)\n",
        "\n",
        "@app.route('/')\n",
        "def index():\n",
        "    return render_template(\"index.html\")\n",
        "\n",
        "if __name__ == \"__main__\":\n",
        "    app.run(debug=True)\n",
        "\n",
        "\n"
      ],
      "metadata": {
        "id": "EFNH5EI3HE6g"
      },
      "execution_count": null,
      "outputs": []
    },
    {
      "cell_type": "code",
      "source": [
        "# 3. How do you define different routes with different HTTP methods in Flask ?\n",
        "\n",
        "from flask import Flask, request, jsonify\n",
        "\n",
        "app = Flask(__name__)\n",
        "\n",
        "# Default GET route\n",
        "@app.route(\"/\", methods=[\"GET\"])\n",
        "def home():\n",
        "    return \"Welcome to the Flask App!\"\n",
        "\n",
        "# Route handling GET and POST\n",
        "@app.route(\"/user\", methods=[\"GET\", \"POST\"])\n",
        "def manage_user():\n",
        "    if request.method == \"GET\":\n",
        "        return \"Fetching user data\"\n",
        "    elif request.method == \"POST\":\n",
        "        data = request.get_json()\n",
        "        return jsonify({\"message\": \"User created\", \"data\": data})\n",
        "\n",
        "# Route handling PUT and DELETE\n",
        "@app.route(\"/user/<int:user_id>\", methods=[\"PUT\", \"DELETE\"])\n",
        "def modify_user(user_id):\n",
        "    if request.method == \"PUT\":\n",
        "        data = request.get_json()\n",
        "        return jsonify({\"message\": \"User updated\", \"user_id\": user_id, \"data\": data})\n",
        "    elif request.method == \"DELETE\":\n",
        "        return jsonify({\"message\": \"User deleted\", \"user_id\": user_id})\n",
        "\n",
        "if __name__ == \"__main__\":\n",
        "    app.run(debug=True)\n"
      ],
      "metadata": {
        "id": "AqgfCLKL0bYx"
      },
      "execution_count": null,
      "outputs": []
    },
    {
      "cell_type": "code",
      "source": [
        "# 4.  How do you render HTML templates in Flask ?\n",
        "\n",
        "from flask import Flask, render_template\n",
        "\n",
        "app = Flask(__name__)\n",
        "\n",
        "@app.route('/')\n",
        "def index():\n",
        "    # Render the 'index.html' template\n",
        "    return render_template('index.html')"
      ],
      "metadata": {
        "id": "UpFn4Eil0niV"
      },
      "execution_count": null,
      "outputs": []
    },
    {
      "cell_type": "code",
      "source": [
        "# 5. How can you generate URLs for routes in Flask using url_for ?\n",
        "\n",
        "from flask import Flask, url_for\n",
        "\n",
        "app = Flask(__name__)\n",
        "\n",
        "@app.route('/')\n",
        "def home():\n",
        "    return \"Welcome to Flask!\"\n",
        "\n",
        "@app.route('/user/<username>')\n",
        "def profile(username):\n",
        "    return f\"Profile page of {username}\"\n",
        "\n",
        "@app.route('/generate-url')\n",
        "def generate_url():\n",
        "    # Generating URLs dynamically\n",
        "    home_url = url_for('home')\n",
        "    profile_url = url_for('profile', username='john')\n",
        "    return f\"Home URL: {home_url}, Profile URL: {profile_url}\"\n",
        "\n",
        "if __name__ == \"__main__\":\n",
        "    app.run(debug=True)\n"
      ],
      "metadata": {
        "id": "4a-zY_KO0xDZ"
      },
      "execution_count": null,
      "outputs": []
    },
    {
      "cell_type": "code",
      "source": [
        "# 6. How do you handle forms in Flask ?\n",
        "\n",
        "from flask import Flask, request, render_template, redirect, url_for\n",
        "\n",
        "app = Flask(__name__)\n",
        "\n",
        "@app.route('/')\n",
        "def home():\n",
        "    return render_template(\"form.html\")\n",
        "\n",
        "@app.route('/submit', methods=['POST'])\n",
        "def submit():\n",
        "    # Get form data using request.form\n",
        "    username = request.form.get('username')\n",
        "    email = request.form.get('email')\n",
        "\n",
        "    return f\"Received Data: Username = {username}, Email = {email}\"\n",
        "\n",
        "if __name__ == \"__main__\":\n",
        "    app.run(debug=True)\n"
      ],
      "metadata": {
        "id": "MXqOAkG30-Gb"
      },
      "execution_count": null,
      "outputs": []
    },
    {
      "cell_type": "code",
      "source": [
        "# 7.  How can you validate form data in Flask ?\n",
        "\n",
        "from flask import Flask, request, render_template, redirect, url_for, flash\n",
        "\n",
        "app = Flask(__name__)\n",
        "app.secret_key = \"supersecretkey\"\n",
        "\n",
        "@app.route('/')\n",
        "def index():\n",
        "    return render_template('form.html')\n",
        "\n",
        "@app.route('/submit', methods=['POST'])\n",
        "def submit():\n",
        "    username = request.form.get('username')\n",
        "    email = request.form.get('email')\n",
        "\n",
        "    # Manual Validation\n",
        "    if not username or not email:\n",
        "        flash(\"All fields are required!\")\n",
        "        return redirect(url_for('index'))\n",
        "\n",
        "    if \"@\" not in email:\n",
        "        flash(\"Invalid email format!\")\n",
        "        return redirect(url_for('index'))\n",
        "\n",
        "    return f\"Welcome, {username}! Your email is {email}\"\n",
        "\n",
        "if __name__ == \"__main__\":\n",
        "    app.run(debug=True)\n"
      ],
      "metadata": {
        "id": "_lQ5ZaVH1PJk"
      },
      "execution_count": null,
      "outputs": []
    },
    {
      "cell_type": "code",
      "source": [
        "# 8. How do you manage sessions in Flask ?\n",
        "\n",
        "from flask import Flask, session, redirect, url_for, request, render_template, flash\n",
        "\n",
        "app = Flask(__name__)\n",
        "app.secret_key = \"supersecretkey\"  # Required to secure sessions\n",
        "\n",
        "@app.route('/')\n",
        "def home():\n",
        "    if 'username' in session:\n",
        "        return f\"Welcome back, {session['username']}!\"\n",
        "    return \"You are not logged in.\"\n",
        "\n",
        "@app.route('/login', methods=['GET', 'POST'])\n",
        "def login():\n",
        "    if request.method == 'POST':\n",
        "        username = request.form['username']\n",
        "        session['username'] = username  # Store in session\n",
        "        flash(\"Logged in successfully!\")\n",
        "        return redirect(url_for('home'))\n",
        "    return render_template('login.html')\n",
        "\n",
        "@app.route('/logout')\n",
        "def logout():\n",
        "    session.pop('username', None)  # Remove from session\n",
        "    flash(\"Logged out successfully!\")\n",
        "    return redirect(url_for('home'))\n",
        "\n",
        "if __name__ == '__main__':\n",
        "    app.run(debug=True)\n"
      ],
      "metadata": {
        "id": "tCAeRyji16AV"
      },
      "execution_count": null,
      "outputs": []
    },
    {
      "cell_type": "code",
      "source": [
        "# 9. How do you redirect to a different route in Flask ?\n",
        "\n",
        "from flask import Flask, redirect, url_for\n",
        "\n",
        "app = Flask(__name__)\n",
        "\n",
        "@app.route('/')\n",
        "def home():\n",
        "    return \"Welcome to the Home Page!\"\n",
        "\n",
        "@app.route('/login')\n",
        "def login():\n",
        "    return \"This is the login page.\"\n",
        "\n",
        "@app.route('/dashboard')\n",
        "def dashboard():\n",
        "    return \"Welcome to your dashboard!\"\n",
        "\n",
        "@app.route('/go-to-dashboard')\n",
        "def go_to_dashboard():\n",
        "    return redirect(url_for('dashboard'))\n"
      ],
      "metadata": {
        "id": "NQCEiMtD2PW3"
      },
      "execution_count": null,
      "outputs": []
    },
    {
      "cell_type": "code",
      "source": [
        "# 10. How do you handle errors in Flask (e.g., 404) ?\n",
        "\n",
        "from flask import Flask, render_template\n",
        "\n",
        "app = Flask(__name__)\n",
        "\n",
        "@app.route('/')\n",
        "def home():\n",
        "    return \"Welcome to the Home Page!\"\n",
        "\n",
        "@app.route('/user/<username>')\n",
        "def user_profile(username):\n",
        "    return f\"User: {username}\"\n",
        "\n",
        "# Error Handlers\n",
        "@app.errorhandler(404)\n",
        "def page_not_found(error):\n",
        "    return \"Error 404: Page Not Found\", 404\n",
        "\n",
        "@app.errorhandler(500)\n",
        "def internal_server_error(error):\n",
        "    return \"Error 500: Internal Server Error\", 500\n",
        "\n",
        "if __name__ == '__main__':\n",
        "    app.run(debug=True)\n"
      ],
      "metadata": {
        "id": "0z5UVq9c2kXC"
      },
      "execution_count": null,
      "outputs": []
    },
    {
      "cell_type": "code",
      "source": [
        "# 11.  How do you structure a Flask app using Blueprints ?\n",
        "\n",
        "from flask import Flask\n",
        "\n",
        "app = Flask(__name__)\n",
        "\n",
        "@app.route('/')\n",
        "def home():\n",
        "    return \"Welcome to the Home Page!\"\n",
        "\n",
        "@app.route('/users')\n",
        "def users():\n",
        "    return \"User Management Section\"\n",
        "\n",
        "if __name__ == '__main__':\n",
        "    app.run(debug=True)\n"
      ],
      "metadata": {
        "id": "7tFrLVMW2kUS"
      },
      "execution_count": null,
      "outputs": []
    },
    {
      "cell_type": "code",
      "source": [
        "# 12. How do you define a custom Jinja filter in Flask ?\n",
        "\n",
        "from flask import Flask, render_template\n",
        "\n",
        "app = Flask(__name__)\n",
        "\n",
        "# Define Custom Filter\n",
        "@app.template_filter('reverse')\n",
        "def reverse_string(s):\n",
        "    return s[::-1]\n",
        "\n",
        "@app.route('/')\n",
        "def home():\n",
        "    return render_template('index.html', message=\"Flask Blueprints\")\n",
        "\n",
        "if __name__ == '__main__':\n",
        "    app.run(debug=True)\n"
      ],
      "metadata": {
        "id": "07hh1Sky225F"
      },
      "execution_count": null,
      "outputs": []
    },
    {
      "cell_type": "code",
      "source": [
        "# 13.  How can you redirect with query parameters in Flask ?\n",
        "\n",
        "from flask import Flask, redirect, url_for\n",
        "\n",
        "app = Flask(__name__)\n",
        "\n",
        "@app.route('/')\n",
        "def home():\n",
        "    return \"Welcome to the Home Page\"\n",
        "\n",
        "@app.route('/redirect-me')\n",
        "def redirect_me():\n",
        "    return redirect(url_for('home'))\n",
        "\n",
        "if __name__ == '__main__':\n",
        "    app.run(debug=True)\n"
      ],
      "metadata": {
        "id": "X63P1iEY5hew"
      },
      "execution_count": null,
      "outputs": []
    },
    {
      "cell_type": "code",
      "source": [
        "# 14.  How do you return JSON responses in Flask ?\n",
        "\n",
        "from flask import Flask, jsonify\n",
        "\n",
        "app = Flask(__name__)\n",
        "\n",
        "@app.route('/api/data', methods=['GET'])\n",
        "def get_data():\n",
        "    data = {'message': 'This is JSON data'}\n",
        "    return jsonify(data)"
      ],
      "metadata": {
        "id": "UdYnVM_M5v7u"
      },
      "execution_count": null,
      "outputs": []
    },
    {
      "cell_type": "code",
      "source": [
        "# 15. How do you capture URL parameters in Flask ?\n",
        "\n",
        "from flask import Flask\n",
        "\n",
        "app = Flask(__name__)\n",
        "\n",
        "@app.route('/hello/<name>')\n",
        "def hello(name):\n",
        "    return f\"Hello, {name}!\"\n",
        "\n",
        "if __name__ == '__main__':\n",
        "    app.run(debug=True)\n"
      ],
      "metadata": {
        "id": "Z9sCNdoS52OC"
      },
      "execution_count": null,
      "outputs": []
    }
  ]
}